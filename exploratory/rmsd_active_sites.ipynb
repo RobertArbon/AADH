{
 "cells": [
  {
   "cell_type": "code",
   "execution_count": 5,
   "metadata": {},
   "outputs": [],
   "source": [
    "import mdtraj as md\n",
    "import matplotlib.pyplot as plt\n",
    "import seaborn as sns\n",
    "%matplotlib inline\n",
    "import numpy as np\n",
    "import pandas as pd"
   ]
  },
  {
   "cell_type": "markdown",
   "metadata": {},
   "source": [
    "This notebook compares the two active sites in the crystal structure and the trajectories. "
   ]
  },
  {
   "cell_type": "code",
   "execution_count": 6,
   "metadata": {},
   "outputs": [],
   "source": [
    "# Topologies in Amber trajectories\n",
    "as_d_top = md.load('../outputs/trajectories/as_d_top.pdb')\n",
    "as_h_top = md.load('../outputs/trajectories/as_h_top.pdb')\n",
    "d_top_df, _ = as_d_top.top.to_dataframe()\n",
    "h_top_df, _ = as_h_top.top.to_dataframe()\n",
    "\n",
    "# Crystal structure\n",
    "xtal = md.load('../data/MD/2agy_c36_state0.pdb')\n",
    "xtal = xtal.atom_slice(xtal.top.select('not water'))\n",
    "xtal_df, _ = xtal.top.to_dataframe()\n"
   ]
  },
  {
   "cell_type": "markdown",
   "metadata": {},
   "source": [
    "The differenc between the two numbering schemes. "
   ]
  },
  {
   "cell_type": "code",
   "execution_count": 7,
   "metadata": {},
   "outputs": [],
   "source": [
    "d_ix = d_top_df.loc[d_top_df.resName=='TTW', 'resSeq'].unique()[0]\n",
    "h_ix = h_top_df.loc[h_top_df.resName=='TTW', 'resSeq'].unique()[0]\n",
    "x_ix = xtal_df.loc[xtal_df.resName=='TTW', 'resSeq'].unique()[0]"
   ]
  },
  {
   "cell_type": "markdown",
   "metadata": {},
   "source": [
    "## site D vs site H: Crystal Structure"
   ]
  },
  {
   "cell_type": "code",
   "execution_count": 8,
   "metadata": {
    "scrolled": false
   },
   "outputs": [],
   "source": [
    "as_res_num = [82, 109, 84, 172, 128, 160]\n",
    "x_as_d_ix = list(xtal_df.loc[xtal_df.resSeq.isin(as_res_num) & (xtal_df.segmentID=='D'), :].index)\n",
    "x_as_h_ix = list(xtal_df.loc[xtal_df.resSeq.isin(as_res_num) & (xtal_df.segmentID=='H'), :].index)\n",
    "x_as_d = xtal.atom_slice(x_as_d_ix)\n",
    "x_as_h = xtal.atom_slice(x_as_h_ix)"
   ]
  },
  {
   "cell_type": "code",
   "execution_count": 9,
   "metadata": {},
   "outputs": [
    {
     "data": {
      "text/plain": [
       "array([0.06955198], dtype=float32)"
      ]
     },
     "execution_count": 9,
     "metadata": {},
     "output_type": "execute_result"
    }
   ],
   "source": [
    "x_heavy_ix = x_as_d.top.select('mass > 1.1')\n",
    "md.rmsd(target=x_as_d, reference=x_as_h, atom_indices=x_heavy_ix)*10"
   ]
  },
  {
   "cell_type": "markdown",
   "metadata": {},
   "source": [
    "## Crystal structure vs MD"
   ]
  },
  {
   "cell_type": "code",
   "execution_count": 10,
   "metadata": {},
   "outputs": [],
   "source": [
    "heavy_ix = as_d_top.top.select('mass > 1.1')\n",
    "n_trajs = 100\n",
    "root_dir = '../outputs/trajectories/'\n",
    "rmsd_d = [md.rmsd(target=md.load(root_dir+'as_d_{}.xtc'.format(i+1), top=as_d_top), \n",
    "                  reference=x_as_d, atom_indices=heavy_ix) for i in range(n_trajs)]\n",
    "rmsd_h = [md.rmsd(target=md.load(root_dir+'as_h_{}.xtc'.format(i+1), top=as_h_top), \n",
    "                  reference=x_as_h, atom_indices=heavy_ix) for i in range(n_trajs)]"
   ]
  },
  {
   "cell_type": "markdown",
   "metadata": {},
   "source": [
    "For plotting:"
   ]
  },
  {
   "cell_type": "code",
   "execution_count": 11,
   "metadata": {},
   "outputs": [],
   "source": [
    "to_ns = 0.001\n",
    "to_ang = 10"
   ]
  },
  {
   "cell_type": "code",
   "execution_count": 12,
   "metadata": {},
   "outputs": [],
   "source": [
    "traj = md.load(root_dir+'as_d_1.xtc', top=as_d_top)\n",
    "\n",
    "ts = traj.timestep*to_ns\n",
    "t = np.arange(0, 100, ts)\n",
    "\n",
    "t_array = [np.arange(0, x.shape[0]*ts, ts) for x in rmsd_d]\n",
    "d_array = [np.repeat('D', x.shape[0]) for x in rmsd_d]\n",
    "h_array = [np.repeat('H', x.shape[0]) for x in rmsd_d]\n",
    "idx_array = [np.repeat(i+1, x.shape[0]) for i, x in enumerate(rmsd_d)]"
   ]
  },
  {
   "cell_type": "code",
   "execution_count": 13,
   "metadata": {},
   "outputs": [],
   "source": [
    "rmsd = pd.concat([pd.DataFrame({'t (ns)': np.concatenate(t_array),  \n",
    "                                'Site': np.concatenate(d_array),\n",
    "                                'RMSD': np.concatenate(rmsd_d)*to_ang, \n",
    "                               'Trajectory': np.concatenate(idx_array)}), \n",
    "                   pd.DataFrame({'t (ns)': np.concatenate(t_array),  \n",
    "                                'Site': np.concatenate(h_array),\n",
    "                                'RMSD': np.concatenate(rmsd_h)*to_ang, \n",
    "                                'Trajectory': np.concatenate(idx_array)})], \n",
    "                  axis=0)"
   ]
  },
  {
   "cell_type": "code",
   "execution_count": 14,
   "metadata": {},
   "outputs": [],
   "source": [
    "rmsd.to_csv('../outputs/rmsd_as_traj_vs_xtal.csv')"
   ]
  },
  {
   "cell_type": "code",
   "execution_count": 15,
   "metadata": {},
   "outputs": [],
   "source": [
    "# with sns.plotting_context('talk', font_scale=1):\n",
    "#     sns.set_style('whitegrid')\n",
    "#     g = sns.FacetGrid(data= rmsd[::100], hue='Site', col='Trajectory', col_wrap=9)\n",
    "#     g.map(plt.plot, 't (ns)', 'RMSD')\n",
    "#     g.set_titles(\"\")\n",
    "#     g.fig.subplots_adjust(hspace=0.02, wspace=0.01)\n",
    "#     for i, ax in enumerate(g.axes.flatten()):\n",
    "#         ax.annotate(str(i+1), xy=(0.05, 0.95), \n",
    "#                     xycoords='axes fraction')\n",
    "#     plt.savefig('outputs/rmsd_as_traj_vs_xtal.png', dpi=450, bbox_inches='tight')\n",
    "    "
   ]
  },
  {
   "cell_type": "code",
   "execution_count": 16,
   "metadata": {},
   "outputs": [],
   "source": [
    "\n",
    "# with sns.plotting_context(font_scale=1.25):\n",
    "#     sns.set_style('whitegrid')\n",
    "#     ax = sns.lineplot(data=rmsd.loc[rmsd['t (ns)']==0, :], x='Trajectory', y='RMSD', hue='Site')\n",
    "#     ax.set_ylim(1.5, 5)\n",
    "#     plt.savefig('outputs/rmsd_as_traj_vs_xtal_0ps.png', dpi=450, bbox_inches='tight')"
   ]
  },
  {
   "cell_type": "code",
   "execution_count": 17,
   "metadata": {},
   "outputs": [],
   "source": [
    "\n",
    "# with sns.plotting_context(font_scale=1.25):\n",
    "#     sns.set_style('white')\n",
    "#     ax = sns.distplot(rmsd.query('Site==\"D\"')[::100]['RMSD'], label='D', kde=False)\n",
    "#     ax = sns.distplot(rmsd.query('Site==\"H\"')[::100]['RMSD'], label='H', ax=ax, kde=False)\n",
    "#     ax.legend(title='Site')\n",
    "#     ax.set_ylabel('Frequency')\n",
    "    \n",
    "# #     ax.set_ylim(1.5, 5)\n",
    "#     plt.savefig('outputs/rmsd_as_traj_vs_xtal_dist.png', dpi=450, bbox_inches='tight')"
   ]
  }
 ],
 "metadata": {
  "kernelspec": {
   "display_name": "Python 3",
   "language": "python",
   "name": "python3"
  },
  "language_info": {
   "codemirror_mode": {
    "name": "ipython",
    "version": 3
   },
   "file_extension": ".py",
   "mimetype": "text/x-python",
   "name": "python",
   "nbconvert_exporter": "python",
   "pygments_lexer": "ipython3",
   "version": "3.7.6"
  }
 },
 "nbformat": 4,
 "nbformat_minor": 4
}
