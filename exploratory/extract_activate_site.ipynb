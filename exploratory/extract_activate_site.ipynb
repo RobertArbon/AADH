{
 "cells": [
  {
   "cell_type": "code",
   "execution_count": 1,
   "metadata": {},
   "outputs": [],
   "source": [
    "import mdtraj as md\n",
    "import matplotlib.pyplot as plt\n",
    "import seaborn as sns\n",
    "%matplotlib inline\n",
    "import numpy as np\n",
    "import pandas as pd"
   ]
  },
  {
   "cell_type": "markdown",
   "metadata": {},
   "source": [
    "This notebook creates active site trajectories based on two different criteria. \n",
    "1. Core-Active-Site: This definition is the six residues from the ... paper. \n",
    "2. Extended-Active-Site: This includes residues either side of the core - this is for calculating the phi/psi angle.\n",
    "\n",
    "The extended active site is calculated from PyMol because it is difficult to select by residue with `mdtraj`. Both defintions have waters included by default. The trajectories will be subset by the index so I have to work out these by calculating differences from the res number in the two topologies"
   ]
  },
  {
   "cell_type": "code",
   "execution_count": 2,
   "metadata": {},
   "outputs": [],
   "source": [
    "# Get data\n",
    "traj_top = md.load('../data/MD/2agy_final_min-stripped_1frame.pdb')\n",
    "traj_df, _ = traj_top.top.to_dataframe()\n",
    "xtal = md.load('../data/MD/2agy_c36_state0.pdb')\n",
    "xtal = xtal.atom_slice(xtal.top.select('not water'))\n",
    "xtal_df, _ = xtal.top.to_dataframe()\n"
   ]
  },
  {
   "cell_type": "markdown",
   "metadata": {},
   "source": [
    "Calculate the differences between the two sequence numbers"
   ]
  },
  {
   "cell_type": "code",
   "execution_count": 3,
   "metadata": {},
   "outputs": [
    {
     "data": {
      "text/plain": [
       "array([399, 872])"
      ]
     },
     "execution_count": 3,
     "metadata": {},
     "output_type": "execute_result"
    }
   ],
   "source": [
    "traj_df.loc[traj_df.resName=='TTW', 'resSeq'].unique()"
   ]
  },
  {
   "cell_type": "code",
   "execution_count": 4,
   "metadata": {},
   "outputs": [
    {
     "data": {
      "text/plain": [
       "array([109])"
      ]
     },
     "execution_count": 4,
     "metadata": {},
     "output_type": "execute_result"
    }
   ],
   "source": [
    "xtal_df.loc[xtal_df.resName=='TTW', 'resSeq'].unique()"
   ]
  },
  {
   "cell_type": "markdown",
   "metadata": {},
   "source": [
    "## Core Active Site"
   ]
  },
  {
   "cell_type": "code",
   "execution_count": 5,
   "metadata": {
    "scrolled": true
   },
   "outputs": [
    {
     "data": {
      "text/plain": [
       "array([-27,   0, -25,  63,  19,  51])"
      ]
     },
     "execution_count": 5,
     "metadata": {},
     "output_type": "execute_result"
    }
   ],
   "source": [
    "as_res_num_diff = np.array([82, 109, 84, 172, 128, 160]) - 109\n",
    "as_res_num_diff"
   ]
  },
  {
   "cell_type": "markdown",
   "metadata": {},
   "source": [
    "Get indices in trajectory topology"
   ]
  },
  {
   "cell_type": "code",
   "execution_count": 6,
   "metadata": {},
   "outputs": [],
   "source": [
    "as_d_ix = list(traj_df.loc[traj_df.resSeq.isin(as_res_num_diff+399), :].index)\n",
    "as_h_ix = list(traj_df.loc[traj_df.resSeq.isin(as_res_num_diff+872), :].index)"
   ]
  },
  {
   "cell_type": "markdown",
   "metadata": {},
   "source": [
    "Calculate a pdb as a topology file"
   ]
  },
  {
   "cell_type": "code",
   "execution_count": 9,
   "metadata": {},
   "outputs": [],
   "source": [
    "traj_top.atom_slice(as_d_ix).save('../data/MD/trajectories/as_d_top.pdb')\n",
    "traj_top.atom_slice(as_h_ix).save('../data/MD/trajectories/as_h_top.pdb')"
   ]
  },
  {
   "cell_type": "code",
   "execution_count": 13,
   "metadata": {
    "scrolled": true
   },
   "outputs": [
    {
     "name": "stdout",
     "output_type": "stream",
     "text": [
      "0, 1, 2, 3, 4, 5, 6, 7, 8, 9, 10, 11, 12, 13, 14, 15, 16, 17, 18, 19, 20, 21, 22, 23, 24, 25, 26, 27, 28, 29, 30, 31, 32, 33, 34, 35, 36, 37, 38, 39, 40, 41, 42, 43, 44, 45, 46, 47, 48, 49, 50, 51, 52, 53, 54, 55, 56, 57, 58, 59, 60, 61, 62, 63, 64, 65, 66, 67, 68, 69, 70, 71, 72, 73, 74, 75, 76, 77, 78, 79, 80, 81, 82, 83, 84, 85, 86, 87, 88, 89, 90, 91, 92, 93, 94, 95, 96, 97, 98, 99, "
     ]
    }
   ],
   "source": [
    "# for i in range(100):\n",
    "#     path = '/Volumes/JGI/AAHD/round_1/{}ns/100ns-production-stripped.xtc'.format(i+1)\n",
    "#     traj = md.load(path, top='../data/MD/2agy_final_min-stripped_1frame.pdb')\n",
    "#     traj.atom_slice(as_d_ix).save('../data/MD/trajectories/as_d_{}.xtc'.format(i+1))\n",
    "#     traj.atom_slice(as_h_ix).save('../data/MD/trajectories/as_h_{}.xtc'.format(i+1))\n",
    "#     print(i, end=', ')"
   ]
  },
  {
   "cell_type": "markdown",
   "metadata": {},
   "source": [
    "## Extended Active Site"
   ]
  },
  {
   "cell_type": "code",
   "execution_count": 10,
   "metadata": {
    "scrolled": true
   },
   "outputs": [
    {
     "data": {
      "text/plain": [
       "array([-28, -27, -26,  -1,   0,   1, -25, -24,  62,  63,  64,  18,  19,\n",
       "        20,  50,  51,  52])"
      ]
     },
     "execution_count": 10,
     "metadata": {},
     "output_type": "execute_result"
    }
   ],
   "source": [
    "as_res_num_diff = np.array([81, 82, 83, 108, 109,110, 84,85, 171, 172, 173, 127, 128, 129, 159, 160, 161]) - 109\n",
    "as_res_num_diff"
   ]
  },
  {
   "cell_type": "markdown",
   "metadata": {},
   "source": [
    "Get indices in trajectory topology"
   ]
  },
  {
   "cell_type": "code",
   "execution_count": 12,
   "metadata": {},
   "outputs": [],
   "source": [
    "as_d_ix = list(traj_df.loc[traj_df.resSeq.isin(as_res_num_diff+399), :].index)\n",
    "as_h_ix = list(traj_df.loc[traj_df.resSeq.isin(as_res_num_diff+872), :].index)"
   ]
  },
  {
   "cell_type": "markdown",
   "metadata": {},
   "source": [
    "Calculate a pdb as a topology file"
   ]
  },
  {
   "cell_type": "code",
   "execution_count": 13,
   "metadata": {},
   "outputs": [],
   "source": [
    "traj_top.atom_slice(as_d_ix).save('../data/MD/trajectories/ext_as_d_top.pdb')\n",
    "traj_top.atom_slice(as_h_ix).save('../data/MD/trajectories/ext_as_h_top.pdb')"
   ]
  },
  {
   "cell_type": "code",
   "execution_count": 14,
   "metadata": {
    "scrolled": true
   },
   "outputs": [
    {
     "name": "stdout",
     "output_type": "stream",
     "text": [
      "END\n",
      "0, 1, 2, 3, 4, 5, 6, 7, 8, 9, 10, 11, 12, 13, 14, 15, 16, 17, 18, 19, 20, 21, 22, 23, 24, 25, 26, 27, 28, 29, 30, 31, 32, 33, 34, 35, 36, 37, 38, 39, 40, 41, 42, 43, 44, 45, 46, 47, 48, 49, 50, 51, 52, 53, 54, 55, 56, 57, 58, 59, 60, 61, 62, 63, 64, 65, 66, 67, 68, 69, 70, 71, 72, 73, 74, 75, 76, 77, 78, 79, 80, 81, 82, 83, 84, 85, 86, 87, 88, 89, 90, 91, 92, 93, 94, 95, 96, 97, 98, 99, "
     ]
    }
   ],
   "source": [
    "for i in range(100):\n",
    "    path = '/Volumes/JGI/AAHD/round_1/{}ns/100ns-production-stripped.xtc'.format(i+1)\n",
    "    traj = md.load(path, top='../data/MD/2agy_final_min-stripped_1frame.pdb')\n",
    "    traj.atom_slice(as_d_ix).save('../data/MD/trajectories/ext_as_d_{}.xtc'.format(i+1))\n",
    "    traj.atom_slice(as_h_ix).save('../data/MD/trajectories/ext_as_h_{}.xtc'.format(i+1))\n",
    "    print(i, end=', ')"
   ]
  },
  {
   "cell_type": "code",
   "execution_count": 16,
   "metadata": {},
   "outputs": [
    {
     "data": {
      "text/plain": [
       "255"
      ]
     },
     "execution_count": 16,
     "metadata": {},
     "output_type": "execute_result"
    }
   ],
   "source": [
    "len(as_h_ix)"
   ]
  },
  {
   "cell_type": "code",
   "execution_count": 24,
   "metadata": {},
   "outputs": [
    {
     "data": {
      "text/html": [
       "<div>\n",
       "<style scoped>\n",
       "    .dataframe tbody tr th:only-of-type {\n",
       "        vertical-align: middle;\n",
       "    }\n",
       "\n",
       "    .dataframe tbody tr th {\n",
       "        vertical-align: top;\n",
       "    }\n",
       "\n",
       "    .dataframe thead th {\n",
       "        text-align: right;\n",
       "    }\n",
       "</style>\n",
       "<table border=\"1\" class=\"dataframe\">\n",
       "  <thead>\n",
       "    <tr style=\"text-align: right;\">\n",
       "      <th></th>\n",
       "      <th>serial</th>\n",
       "      <th>name</th>\n",
       "      <th>element</th>\n",
       "      <th>resSeq</th>\n",
       "      <th>resName</th>\n",
       "      <th>chainID</th>\n",
       "      <th>segmentID</th>\n",
       "    </tr>\n",
       "  </thead>\n",
       "  <tbody>\n",
       "    <tr>\n",
       "      <th>5734</th>\n",
       "      <td>5735</td>\n",
       "      <td>N</td>\n",
       "      <td>N</td>\n",
       "      <td>371</td>\n",
       "      <td>CYS</td>\n",
       "      <td>0</td>\n",
       "      <td></td>\n",
       "    </tr>\n",
       "    <tr>\n",
       "      <th>5735</th>\n",
       "      <td>5736</td>\n",
       "      <td>H</td>\n",
       "      <td>H</td>\n",
       "      <td>371</td>\n",
       "      <td>CYS</td>\n",
       "      <td>0</td>\n",
       "      <td></td>\n",
       "    </tr>\n",
       "    <tr>\n",
       "      <th>5736</th>\n",
       "      <td>5737</td>\n",
       "      <td>CA</td>\n",
       "      <td>C</td>\n",
       "      <td>371</td>\n",
       "      <td>CYS</td>\n",
       "      <td>0</td>\n",
       "      <td></td>\n",
       "    </tr>\n",
       "    <tr>\n",
       "      <th>5737</th>\n",
       "      <td>5738</td>\n",
       "      <td>HA</td>\n",
       "      <td>H</td>\n",
       "      <td>371</td>\n",
       "      <td>CYS</td>\n",
       "      <td>0</td>\n",
       "      <td></td>\n",
       "    </tr>\n",
       "    <tr>\n",
       "      <th>5738</th>\n",
       "      <td>5739</td>\n",
       "      <td>CB</td>\n",
       "      <td>C</td>\n",
       "      <td>371</td>\n",
       "      <td>CYS</td>\n",
       "      <td>0</td>\n",
       "      <td></td>\n",
       "    </tr>\n",
       "    <tr>\n",
       "      <th>5739</th>\n",
       "      <td>5740</td>\n",
       "      <td>HB3</td>\n",
       "      <td>H</td>\n",
       "      <td>371</td>\n",
       "      <td>CYS</td>\n",
       "      <td>0</td>\n",
       "      <td></td>\n",
       "    </tr>\n",
       "    <tr>\n",
       "      <th>5740</th>\n",
       "      <td>5741</td>\n",
       "      <td>HB2</td>\n",
       "      <td>H</td>\n",
       "      <td>371</td>\n",
       "      <td>CYS</td>\n",
       "      <td>0</td>\n",
       "      <td></td>\n",
       "    </tr>\n",
       "    <tr>\n",
       "      <th>5741</th>\n",
       "      <td>5742</td>\n",
       "      <td>SG</td>\n",
       "      <td>S</td>\n",
       "      <td>371</td>\n",
       "      <td>CYS</td>\n",
       "      <td>0</td>\n",
       "      <td></td>\n",
       "    </tr>\n",
       "    <tr>\n",
       "      <th>5742</th>\n",
       "      <td>5743</td>\n",
       "      <td>C</td>\n",
       "      <td>C</td>\n",
       "      <td>371</td>\n",
       "      <td>CYS</td>\n",
       "      <td>0</td>\n",
       "      <td></td>\n",
       "    </tr>\n",
       "    <tr>\n",
       "      <th>5743</th>\n",
       "      <td>5744</td>\n",
       "      <td>O</td>\n",
       "      <td>O</td>\n",
       "      <td>371</td>\n",
       "      <td>CYS</td>\n",
       "      <td>0</td>\n",
       "      <td></td>\n",
       "    </tr>\n",
       "  </tbody>\n",
       "</table>\n",
       "</div>"
      ],
      "text/plain": [
       "      serial name element  resSeq resName  chainID segmentID\n",
       "5734    5735    N       N     371     CYS        0          \n",
       "5735    5736    H       H     371     CYS        0          \n",
       "5736    5737   CA       C     371     CYS        0          \n",
       "5737    5738   HA       H     371     CYS        0          \n",
       "5738    5739   CB       C     371     CYS        0          \n",
       "5739    5740  HB3       H     371     CYS        0          \n",
       "5740    5741  HB2       H     371     CYS        0          \n",
       "5741    5742   SG       S     371     CYS        0          \n",
       "5742    5743    C       C     371     CYS        0          \n",
       "5743    5744    O       O     371     CYS        0          "
      ]
     },
     "execution_count": 24,
     "metadata": {},
     "output_type": "execute_result"
    }
   ],
   "source": [
    "traj_df.loc[traj_df.resSeq.isin([as_res_num_diff[0]+399]), :]"
   ]
  },
  {
   "cell_type": "code",
   "execution_count": 22,
   "metadata": {},
   "outputs": [
    {
     "data": {
      "text/html": [
       "<div>\n",
       "<style scoped>\n",
       "    .dataframe tbody tr th:only-of-type {\n",
       "        vertical-align: middle;\n",
       "    }\n",
       "\n",
       "    .dataframe tbody tr th {\n",
       "        vertical-align: top;\n",
       "    }\n",
       "\n",
       "    .dataframe thead th {\n",
       "        text-align: right;\n",
       "    }\n",
       "</style>\n",
       "<table border=\"1\" class=\"dataframe\">\n",
       "  <thead>\n",
       "    <tr style=\"text-align: right;\">\n",
       "      <th></th>\n",
       "      <th>serial</th>\n",
       "      <th>name</th>\n",
       "      <th>element</th>\n",
       "      <th>resSeq</th>\n",
       "      <th>resName</th>\n",
       "      <th>chainID</th>\n",
       "      <th>segmentID</th>\n",
       "    </tr>\n",
       "  </thead>\n",
       "  <tbody>\n",
       "    <tr>\n",
       "      <th>12943</th>\n",
       "      <td>12944</td>\n",
       "      <td>N</td>\n",
       "      <td>N</td>\n",
       "      <td>844</td>\n",
       "      <td>CYS</td>\n",
       "      <td>0</td>\n",
       "      <td></td>\n",
       "    </tr>\n",
       "    <tr>\n",
       "      <th>12944</th>\n",
       "      <td>12945</td>\n",
       "      <td>H</td>\n",
       "      <td>H</td>\n",
       "      <td>844</td>\n",
       "      <td>CYS</td>\n",
       "      <td>0</td>\n",
       "      <td></td>\n",
       "    </tr>\n",
       "    <tr>\n",
       "      <th>12945</th>\n",
       "      <td>12946</td>\n",
       "      <td>CA</td>\n",
       "      <td>C</td>\n",
       "      <td>844</td>\n",
       "      <td>CYS</td>\n",
       "      <td>0</td>\n",
       "      <td></td>\n",
       "    </tr>\n",
       "    <tr>\n",
       "      <th>12946</th>\n",
       "      <td>12947</td>\n",
       "      <td>HA</td>\n",
       "      <td>H</td>\n",
       "      <td>844</td>\n",
       "      <td>CYS</td>\n",
       "      <td>0</td>\n",
       "      <td></td>\n",
       "    </tr>\n",
       "    <tr>\n",
       "      <th>12947</th>\n",
       "      <td>12948</td>\n",
       "      <td>CB</td>\n",
       "      <td>C</td>\n",
       "      <td>844</td>\n",
       "      <td>CYS</td>\n",
       "      <td>0</td>\n",
       "      <td></td>\n",
       "    </tr>\n",
       "    <tr>\n",
       "      <th>12948</th>\n",
       "      <td>12949</td>\n",
       "      <td>HB3</td>\n",
       "      <td>H</td>\n",
       "      <td>844</td>\n",
       "      <td>CYS</td>\n",
       "      <td>0</td>\n",
       "      <td></td>\n",
       "    </tr>\n",
       "    <tr>\n",
       "      <th>12949</th>\n",
       "      <td>12950</td>\n",
       "      <td>HB2</td>\n",
       "      <td>H</td>\n",
       "      <td>844</td>\n",
       "      <td>CYS</td>\n",
       "      <td>0</td>\n",
       "      <td></td>\n",
       "    </tr>\n",
       "    <tr>\n",
       "      <th>12950</th>\n",
       "      <td>12951</td>\n",
       "      <td>SG</td>\n",
       "      <td>S</td>\n",
       "      <td>844</td>\n",
       "      <td>CYS</td>\n",
       "      <td>0</td>\n",
       "      <td></td>\n",
       "    </tr>\n",
       "    <tr>\n",
       "      <th>12951</th>\n",
       "      <td>12952</td>\n",
       "      <td>HG</td>\n",
       "      <td>H</td>\n",
       "      <td>844</td>\n",
       "      <td>CYS</td>\n",
       "      <td>0</td>\n",
       "      <td></td>\n",
       "    </tr>\n",
       "    <tr>\n",
       "      <th>12952</th>\n",
       "      <td>12953</td>\n",
       "      <td>C</td>\n",
       "      <td>C</td>\n",
       "      <td>844</td>\n",
       "      <td>CYS</td>\n",
       "      <td>0</td>\n",
       "      <td></td>\n",
       "    </tr>\n",
       "    <tr>\n",
       "      <th>12953</th>\n",
       "      <td>12954</td>\n",
       "      <td>O</td>\n",
       "      <td>O</td>\n",
       "      <td>844</td>\n",
       "      <td>CYS</td>\n",
       "      <td>0</td>\n",
       "      <td></td>\n",
       "    </tr>\n",
       "  </tbody>\n",
       "</table>\n",
       "</div>"
      ],
      "text/plain": [
       "       serial name element  resSeq resName  chainID segmentID\n",
       "12943   12944    N       N     844     CYS        0          \n",
       "12944   12945    H       H     844     CYS        0          \n",
       "12945   12946   CA       C     844     CYS        0          \n",
       "12946   12947   HA       H     844     CYS        0          \n",
       "12947   12948   CB       C     844     CYS        0          \n",
       "12948   12949  HB3       H     844     CYS        0          \n",
       "12949   12950  HB2       H     844     CYS        0          \n",
       "12950   12951   SG       S     844     CYS        0          \n",
       "12951   12952   HG       H     844     CYS        0          \n",
       "12952   12953    C       C     844     CYS        0          \n",
       "12953   12954    O       O     844     CYS        0          "
      ]
     },
     "execution_count": 22,
     "metadata": {},
     "output_type": "execute_result"
    }
   ],
   "source": [
    "traj_df.loc[traj_df.resSeq.isin([as_res_num_diff[0]+872]), :]"
   ]
  },
  {
   "cell_type": "code",
   "execution_count": null,
   "metadata": {},
   "outputs": [],
   "source": []
  }
 ],
 "metadata": {
  "kernelspec": {
   "display_name": "Python 3",
   "language": "python",
   "name": "python3"
  },
  "language_info": {
   "codemirror_mode": {
    "name": "ipython",
    "version": 3
   },
   "file_extension": ".py",
   "mimetype": "text/x-python",
   "name": "python",
   "nbconvert_exporter": "python",
   "pygments_lexer": "ipython3",
   "version": "3.7.6"
  }
 },
 "nbformat": 4,
 "nbformat_minor": 4
}
