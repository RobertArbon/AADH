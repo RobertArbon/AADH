{
 "cells": [
  {
   "cell_type": "code",
   "execution_count": 4,
   "metadata": {},
   "outputs": [],
   "source": [
    "import mdtraj as md\n",
    "import matplotlib.pyplot as plt\n",
    "import seaborn as sns\n",
    "%matplotlib inline\n",
    "import numpy as np\n",
    "import pandas as pd"
   ]
  },
  {
   "cell_type": "markdown",
   "metadata": {},
   "source": [
    "This notebook creates active site trajectories based on two different criteria. \n",
    "1. Core-Active-Site: This definition is the six residues from the ... paper. \n",
    "2. Extended-Active-Site: This includes all residues within 3 angstroms of any of the core active site.\n",
    "\n",
    "The extended active site is calculated from PyMol because it is difficult to select by residue with `mdtraj`. Both defintions have waters included by default. The trajectories will be subset by the index so I have to work out these by calculating differences from the res number in the two topologies"
   ]
  },
  {
   "cell_type": "code",
   "execution_count": 5,
   "metadata": {},
   "outputs": [],
   "source": [
    "# Get data\n",
    "traj_top = md.load('../data/MD/2agy_final_min-stripped_1frame.pdb')\n",
    "traj_df, _ = traj_top.top.to_dataframe()\n",
    "xtal = md.load('../data/MD/2agy_c36_state0.pdb')\n",
    "xtal = xtal.atom_slice(xtal.top.select('not water'))\n",
    "xtal_df, _ = xtal.top.to_dataframe()\n"
   ]
  },
  {
   "cell_type": "markdown",
   "metadata": {},
   "source": [
    "Calculate the differences between the two sequence numbers"
   ]
  },
  {
   "cell_type": "code",
   "execution_count": 6,
   "metadata": {},
   "outputs": [
    {
     "data": {
      "text/plain": [
       "array([399, 872])"
      ]
     },
     "execution_count": 6,
     "metadata": {},
     "output_type": "execute_result"
    }
   ],
   "source": [
    "traj_df.loc[traj_df.resName=='TTW', 'resSeq'].unique()"
   ]
  },
  {
   "cell_type": "code",
   "execution_count": 7,
   "metadata": {},
   "outputs": [
    {
     "data": {
      "text/plain": [
       "array([109])"
      ]
     },
     "execution_count": 7,
     "metadata": {},
     "output_type": "execute_result"
    }
   ],
   "source": [
    "xtal_df.loc[xtal_df.resName=='TTW', 'resSeq'].unique()"
   ]
  },
  {
   "cell_type": "code",
   "execution_count": 8,
   "metadata": {
    "scrolled": true
   },
   "outputs": [
    {
     "data": {
      "text/plain": [
       "array([-27,   0, -25,  63,  19,  51])"
      ]
     },
     "execution_count": 8,
     "metadata": {},
     "output_type": "execute_result"
    }
   ],
   "source": [
    "as_res_num_diff = np.array([82, 109, 84, 172, 128, 160]) - 109\n",
    "as_res_num_diff"
   ]
  },
  {
   "cell_type": "markdown",
   "metadata": {},
   "source": [
    "Get indices in trajectory topology"
   ]
  },
  {
   "cell_type": "code",
   "execution_count": 9,
   "metadata": {},
   "outputs": [],
   "source": [
    "as_d_ix = list(traj_df.loc[traj_df.resSeq.isin(as_res_num_diff+399), :].index)\n",
    "as_h_ix = list(traj_df.loc[traj_df.resSeq.isin(as_res_num_diff+872), :].index)"
   ]
  },
  {
   "cell_type": "markdown",
   "metadata": {},
   "source": [
    "Calculate a pdb as a topology file"
   ]
  },
  {
   "cell_type": "code",
   "execution_count": 10,
   "metadata": {},
   "outputs": [],
   "source": [
    "traj_top.atom_slice(as_d_ix).save('../outputs/trajectories/core-as_d_topology.pdb')\n",
    "traj_top.atom_slice(as_h_ix).save('../outputs/trajectories/core-as_h_topology.pdb')"
   ]
  },
  {
   "cell_type": "code",
   "execution_count": 13,
   "metadata": {
    "scrolled": true
   },
   "outputs": [
    {
     "name": "stdout",
     "output_type": "stream",
     "text": [
      "0, 1, 2, 3, 4, 5, 6, 7, 8, 9, 10, 11, 12, 13, 14, 15, 16, 17, 18, 19, 20, 21, 22, 23, 24, 25, 26, 27, 28, 29, 30, 31, 32, 33, 34, 35, 36, 37, 38, 39, 40, 41, 42, 43, 44, 45, 46, 47, 48, 49, 50, 51, 52, 53, 54, 55, 56, 57, 58, 59, 60, 61, 62, 63, 64, 65, 66, 67, 68, 69, 70, 71, 72, 73, 74, 75, 76, 77, 78, 79, 80, 81, 82, 83, 84, 85, 86, 87, 88, 89, 90, 91, 92, 93, 94, 95, 96, 97, 98, 99, "
     ]
    }
   ],
   "source": [
    "for i in range(100):\n",
    "    path = '/Volumes/JGI/AAHD/round_1/{}ns/100ns-production-stripped.xtc'.format(i+1)\n",
    "    traj = md.load(path, top='../data/MD/2agy_final_min-stripped_1frame.pdb')\n",
    "    traj.atom_slice(as_d_ix).save('../outputs/trajectories/as_d_{}.xtc'.format(i+1))\n",
    "    traj.atom_slice(as_h_ix).save('../outputs/trajectories/as_h_{}.xtc'.format(i+1))\n",
    "    print(i, end=', ')"
   ]
  },
  {
   "cell_type": "code",
   "execution_count": null,
   "metadata": {},
   "outputs": [],
   "source": []
  }
 ],
 "metadata": {
  "kernelspec": {
   "display_name": "Python 3",
   "language": "python",
   "name": "python3"
  },
  "language_info": {
   "codemirror_mode": {
    "name": "ipython",
    "version": 3
   },
   "file_extension": ".py",
   "mimetype": "text/x-python",
   "name": "python",
   "nbconvert_exporter": "python",
   "pygments_lexer": "ipython3",
   "version": "3.6.10"
  }
 },
 "nbformat": 4,
 "nbformat_minor": 4
}
