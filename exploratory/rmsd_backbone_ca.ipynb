{
 "cells": [
  {
   "cell_type": "code",
   "execution_count": 8,
   "metadata": {},
   "outputs": [],
   "source": [
    "import mdtraj as md\n",
    "import matplotlib.pyplot as plt\n",
    "import seaborn as sns\n",
    "%matplotlib inline\n",
    "import numpy as np\n",
    "import pandas as pd"
   ]
  },
  {
   "cell_type": "code",
   "execution_count": 9,
   "metadata": {},
   "outputs": [],
   "source": [
    "data_dir = '/Volumes/JGI/AAHD/round_1/'\n",
    "traj_paths = [data_dir+'{}ns/100ns-production-stripped.xtc'.format(i+1) for i in range(100)]\n",
    "top_path = '../data/MD/2agy_final_min-stripped_1frame.pdb'\n",
    "xtal_path = '../data/MD/2agy_c36_state0.pdb'"
   ]
  },
  {
   "cell_type": "markdown",
   "metadata": {},
   "source": [
    "Load the crystal structure to align to, I need to get rid of the crystal waters though. "
   ]
  },
  {
   "cell_type": "code",
   "execution_count": 10,
   "metadata": {},
   "outputs": [],
   "source": [
    "xtal = md.load(xtal_path)\n",
    "xtal = xtal.atom_slice(xtal.top.select('not water'))"
   ]
  },
  {
   "cell_type": "markdown",
   "metadata": {},
   "source": [
    "Load the and process data"
   ]
  },
  {
   "cell_type": "code",
   "execution_count": 11,
   "metadata": {},
   "outputs": [],
   "source": [
    "alpha_ix = xtal.top.select('backbone and name CA')"
   ]
  },
  {
   "cell_type": "code",
   "execution_count": 12,
   "metadata": {
    "scrolled": true
   },
   "outputs": [
    {
     "name": "stdout",
     "output_type": "stream",
     "text": [
      "/Volumes/JGI/AAHD/round_1/1ns/100ns-production-stripped.xtc\n",
      "/Volumes/JGI/AAHD/round_1/2ns/100ns-production-stripped.xtc\n",
      "/Volumes/JGI/AAHD/round_1/3ns/100ns-production-stripped.xtc\n",
      "/Volumes/JGI/AAHD/round_1/4ns/100ns-production-stripped.xtc\n",
      "/Volumes/JGI/AAHD/round_1/5ns/100ns-production-stripped.xtc\n",
      "/Volumes/JGI/AAHD/round_1/6ns/100ns-production-stripped.xtc\n",
      "/Volumes/JGI/AAHD/round_1/7ns/100ns-production-stripped.xtc\n",
      "/Volumes/JGI/AAHD/round_1/8ns/100ns-production-stripped.xtc\n",
      "/Volumes/JGI/AAHD/round_1/9ns/100ns-production-stripped.xtc\n",
      "/Volumes/JGI/AAHD/round_1/10ns/100ns-production-stripped.xtc\n",
      "/Volumes/JGI/AAHD/round_1/11ns/100ns-production-stripped.xtc\n",
      "/Volumes/JGI/AAHD/round_1/12ns/100ns-production-stripped.xtc\n",
      "/Volumes/JGI/AAHD/round_1/13ns/100ns-production-stripped.xtc\n",
      "/Volumes/JGI/AAHD/round_1/14ns/100ns-production-stripped.xtc\n",
      "/Volumes/JGI/AAHD/round_1/15ns/100ns-production-stripped.xtc\n",
      "/Volumes/JGI/AAHD/round_1/16ns/100ns-production-stripped.xtc\n",
      "/Volumes/JGI/AAHD/round_1/17ns/100ns-production-stripped.xtc\n",
      "/Volumes/JGI/AAHD/round_1/18ns/100ns-production-stripped.xtc\n",
      "/Volumes/JGI/AAHD/round_1/19ns/100ns-production-stripped.xtc\n",
      "/Volumes/JGI/AAHD/round_1/20ns/100ns-production-stripped.xtc\n",
      "/Volumes/JGI/AAHD/round_1/21ns/100ns-production-stripped.xtc\n",
      "/Volumes/JGI/AAHD/round_1/22ns/100ns-production-stripped.xtc\n",
      "/Volumes/JGI/AAHD/round_1/23ns/100ns-production-stripped.xtc\n",
      "/Volumes/JGI/AAHD/round_1/24ns/100ns-production-stripped.xtc\n",
      "/Volumes/JGI/AAHD/round_1/25ns/100ns-production-stripped.xtc\n",
      "/Volumes/JGI/AAHD/round_1/26ns/100ns-production-stripped.xtc\n",
      "/Volumes/JGI/AAHD/round_1/27ns/100ns-production-stripped.xtc\n",
      "/Volumes/JGI/AAHD/round_1/28ns/100ns-production-stripped.xtc\n",
      "/Volumes/JGI/AAHD/round_1/29ns/100ns-production-stripped.xtc\n",
      "/Volumes/JGI/AAHD/round_1/30ns/100ns-production-stripped.xtc\n",
      "/Volumes/JGI/AAHD/round_1/31ns/100ns-production-stripped.xtc\n",
      "/Volumes/JGI/AAHD/round_1/32ns/100ns-production-stripped.xtc\n",
      "/Volumes/JGI/AAHD/round_1/33ns/100ns-production-stripped.xtc\n",
      "/Volumes/JGI/AAHD/round_1/34ns/100ns-production-stripped.xtc\n",
      "/Volumes/JGI/AAHD/round_1/35ns/100ns-production-stripped.xtc\n",
      "/Volumes/JGI/AAHD/round_1/36ns/100ns-production-stripped.xtc\n",
      "/Volumes/JGI/AAHD/round_1/37ns/100ns-production-stripped.xtc\n",
      "/Volumes/JGI/AAHD/round_1/38ns/100ns-production-stripped.xtc\n",
      "/Volumes/JGI/AAHD/round_1/39ns/100ns-production-stripped.xtc\n",
      "/Volumes/JGI/AAHD/round_1/40ns/100ns-production-stripped.xtc\n",
      "/Volumes/JGI/AAHD/round_1/41ns/100ns-production-stripped.xtc\n",
      "/Volumes/JGI/AAHD/round_1/42ns/100ns-production-stripped.xtc\n",
      "/Volumes/JGI/AAHD/round_1/43ns/100ns-production-stripped.xtc\n",
      "/Volumes/JGI/AAHD/round_1/44ns/100ns-production-stripped.xtc\n",
      "/Volumes/JGI/AAHD/round_1/45ns/100ns-production-stripped.xtc\n",
      "/Volumes/JGI/AAHD/round_1/46ns/100ns-production-stripped.xtc\n",
      "/Volumes/JGI/AAHD/round_1/47ns/100ns-production-stripped.xtc\n",
      "/Volumes/JGI/AAHD/round_1/48ns/100ns-production-stripped.xtc\n",
      "/Volumes/JGI/AAHD/round_1/49ns/100ns-production-stripped.xtc\n",
      "/Volumes/JGI/AAHD/round_1/50ns/100ns-production-stripped.xtc\n",
      "/Volumes/JGI/AAHD/round_1/51ns/100ns-production-stripped.xtc\n",
      "/Volumes/JGI/AAHD/round_1/52ns/100ns-production-stripped.xtc\n",
      "/Volumes/JGI/AAHD/round_1/53ns/100ns-production-stripped.xtc\n",
      "/Volumes/JGI/AAHD/round_1/54ns/100ns-production-stripped.xtc\n",
      "/Volumes/JGI/AAHD/round_1/55ns/100ns-production-stripped.xtc\n",
      "/Volumes/JGI/AAHD/round_1/56ns/100ns-production-stripped.xtc\n",
      "/Volumes/JGI/AAHD/round_1/57ns/100ns-production-stripped.xtc\n",
      "/Volumes/JGI/AAHD/round_1/58ns/100ns-production-stripped.xtc\n",
      "/Volumes/JGI/AAHD/round_1/59ns/100ns-production-stripped.xtc\n",
      "/Volumes/JGI/AAHD/round_1/60ns/100ns-production-stripped.xtc\n",
      "/Volumes/JGI/AAHD/round_1/61ns/100ns-production-stripped.xtc\n",
      "/Volumes/JGI/AAHD/round_1/62ns/100ns-production-stripped.xtc\n",
      "/Volumes/JGI/AAHD/round_1/63ns/100ns-production-stripped.xtc\n",
      "/Volumes/JGI/AAHD/round_1/64ns/100ns-production-stripped.xtc\n",
      "/Volumes/JGI/AAHD/round_1/65ns/100ns-production-stripped.xtc\n",
      "/Volumes/JGI/AAHD/round_1/66ns/100ns-production-stripped.xtc\n",
      "/Volumes/JGI/AAHD/round_1/67ns/100ns-production-stripped.xtc\n",
      "/Volumes/JGI/AAHD/round_1/68ns/100ns-production-stripped.xtc\n",
      "/Volumes/JGI/AAHD/round_1/69ns/100ns-production-stripped.xtc\n",
      "/Volumes/JGI/AAHD/round_1/70ns/100ns-production-stripped.xtc\n",
      "/Volumes/JGI/AAHD/round_1/71ns/100ns-production-stripped.xtc\n",
      "/Volumes/JGI/AAHD/round_1/72ns/100ns-production-stripped.xtc\n",
      "/Volumes/JGI/AAHD/round_1/73ns/100ns-production-stripped.xtc\n",
      "/Volumes/JGI/AAHD/round_1/74ns/100ns-production-stripped.xtc\n",
      "/Volumes/JGI/AAHD/round_1/75ns/100ns-production-stripped.xtc\n",
      "/Volumes/JGI/AAHD/round_1/76ns/100ns-production-stripped.xtc\n",
      "/Volumes/JGI/AAHD/round_1/77ns/100ns-production-stripped.xtc\n",
      "/Volumes/JGI/AAHD/round_1/78ns/100ns-production-stripped.xtc\n",
      "/Volumes/JGI/AAHD/round_1/79ns/100ns-production-stripped.xtc\n",
      "/Volumes/JGI/AAHD/round_1/80ns/100ns-production-stripped.xtc\n",
      "/Volumes/JGI/AAHD/round_1/81ns/100ns-production-stripped.xtc\n",
      "/Volumes/JGI/AAHD/round_1/82ns/100ns-production-stripped.xtc\n",
      "/Volumes/JGI/AAHD/round_1/83ns/100ns-production-stripped.xtc\n",
      "/Volumes/JGI/AAHD/round_1/84ns/100ns-production-stripped.xtc\n",
      "/Volumes/JGI/AAHD/round_1/85ns/100ns-production-stripped.xtc\n",
      "/Volumes/JGI/AAHD/round_1/86ns/100ns-production-stripped.xtc\n",
      "/Volumes/JGI/AAHD/round_1/87ns/100ns-production-stripped.xtc\n",
      "/Volumes/JGI/AAHD/round_1/88ns/100ns-production-stripped.xtc\n",
      "/Volumes/JGI/AAHD/round_1/89ns/100ns-production-stripped.xtc\n",
      "/Volumes/JGI/AAHD/round_1/90ns/100ns-production-stripped.xtc\n",
      "/Volumes/JGI/AAHD/round_1/91ns/100ns-production-stripped.xtc\n",
      "/Volumes/JGI/AAHD/round_1/92ns/100ns-production-stripped.xtc\n",
      "/Volumes/JGI/AAHD/round_1/93ns/100ns-production-stripped.xtc\n",
      "/Volumes/JGI/AAHD/round_1/94ns/100ns-production-stripped.xtc\n",
      "/Volumes/JGI/AAHD/round_1/95ns/100ns-production-stripped.xtc\n",
      "/Volumes/JGI/AAHD/round_1/96ns/100ns-production-stripped.xtc\n",
      "/Volumes/JGI/AAHD/round_1/97ns/100ns-production-stripped.xtc\n",
      "/Volumes/JGI/AAHD/round_1/98ns/100ns-production-stripped.xtc\n",
      "/Volumes/JGI/AAHD/round_1/99ns/100ns-production-stripped.xtc\n",
      "/Volumes/JGI/AAHD/round_1/100ns/100ns-production-stripped.xtc\n"
     ]
    }
   ],
   "source": [
    "rmsds = []\n",
    "for path in traj_paths: \n",
    "    print(path)\n",
    "    traj = md.load(path, top=top_path, stride=100)\n",
    "    traj.superpose(reference=xtal, atom_indices = alpha_ix, ref_atom_indices = alpha_ix)\n",
    "    rmsds.append(md.rmsd(target = traj, reference = xtal, atom_indices = alpha_ix))\n",
    "    "
   ]
  },
  {
   "cell_type": "markdown",
   "metadata": {},
   "source": [
    "Convert to data frame and save. "
   ]
  },
  {
   "cell_type": "code",
   "execution_count": 14,
   "metadata": {},
   "outputs": [],
   "source": [
    "rmsd = np.concatenate(rmsds)\n",
    "idx = np.concatenate([np.repeat(i+1, rmsds[i].shape[0]) for i in range(len(rmsds))])\n",
    "pd.DataFrame({'rmsd': rmsd, 'traj_idx': idx}).to_csv('../outputs/rmsd_ca.csv', index=False)"
   ]
  }
 ],
 "metadata": {
  "kernelspec": {
   "display_name": "Python 3",
   "language": "python",
   "name": "python3"
  },
  "language_info": {
   "codemirror_mode": {
    "name": "ipython",
    "version": 3
   },
   "file_extension": ".py",
   "mimetype": "text/x-python",
   "name": "python",
   "nbconvert_exporter": "python",
   "pygments_lexer": "ipython3",
   "version": "3.6.10"
  }
 },
 "nbformat": 4,
 "nbformat_minor": 4
}
