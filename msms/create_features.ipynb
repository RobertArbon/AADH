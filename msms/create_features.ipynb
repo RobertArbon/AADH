{
 "cells": [
  {
   "cell_type": "code",
   "execution_count": 1,
   "metadata": {},
   "outputs": [],
   "source": [
    "import pyemma as pe\n",
    "import pandas as pd\n",
    "import numpy as np\n",
    "import mdtraj as md\n",
    "import matplotlib.pyplot as plt\n",
    "%matplotlib inline\n",
    "from pathlib import Path, PurePath\n",
    "import itertools as it\n",
    "import seaborn as sns"
   ]
  },
  {
   "cell_type": "code",
   "execution_count": 10,
   "metadata": {},
   "outputs": [],
   "source": [
    "data_dir = '/Users/robertarbon/OneDrive - University of Bristol/Research/AADH/data/MD/'\n",
    "traj_names = ['as_{0}_{1}.xtc'.format(s, i+1) for s in ['d', 'h'] for i in range(100)]\n",
    "ext_traj_names = ['ext_'+x for x in traj_names]\n",
    "traj_paths = [data_dir + 'trajectories/' + x for x in traj_names]\n",
    "ext_traj_paths = [data_dir + 'trajectories/' + x for x in ext_traj_names]\n",
    "npy_names = [x.replace('xtc', 'npy') for x in traj_names]\n",
    "ext_npy_names = [x.replace('xtc', 'npy') for x in traj_names]\n",
    "xtal_path = data_dir + '2agy_as_h.pdb' # both D and H are approximately the same. \n"
   ]
  },
  {
   "cell_type": "code",
   "execution_count": 3,
   "metadata": {},
   "outputs": [],
   "source": [
    "xtal = md.load(xtal_path)"
   ]
  },
  {
   "cell_type": "code",
   "execution_count": 4,
   "metadata": {},
   "outputs": [],
   "source": [
    "trajs = [md.load(x, top=xtal_path) for x in traj_paths]"
   ]
  },
  {
   "cell_type": "code",
   "execution_count": 5,
   "metadata": {
    "scrolled": false
   },
   "outputs": [],
   "source": [
    "heavy_ix = list(xtal.top.select('mass > 2'))\n"
   ]
  },
  {
   "cell_type": "markdown",
   "metadata": {},
   "source": [
    "## RMSD"
   ]
  },
  {
   "cell_type": "code",
   "execution_count": 25,
   "metadata": {},
   "outputs": [],
   "source": [
    "feature = 'rmsd'\n",
    "\n",
    "out_path = data_dir+feature\n",
    "out = Path(out_path)\n",
    "out.mkdir(parents=True, exist_ok=True)\n",
    "for i, traj in enumerate(trajs):\n",
    "    out_i = out.joinpath(npy_names[i])\n",
    "    rmsd = md.rmsd(traj, xtal, atom_indices=heavy_ix)\n",
    "    np.save(file=out_i, arr=rmsd)       \n",
    "    "
   ]
  },
  {
   "cell_type": "markdown",
   "metadata": {},
   "source": [
    "## Heavy contacts"
   ]
  },
  {
   "cell_type": "code",
   "execution_count": 41,
   "metadata": {},
   "outputs": [],
   "source": [
    "feature = 'contact_heavy'\n",
    "res_pairs = np.array(list(it.combinations(range(xtal.n_residues), 2)))\n",
    "\n",
    "out_path = data_dir+feature\n",
    "out = Path(out_path)\n",
    "out.mkdir(parents=True, exist_ok=True)\n",
    "for i, traj in enumerate(trajs):\n",
    "    out_i = out.joinpath(npy_names[i])\n",
    "    out_f, _ = md.compute_contacts(traj, contacts=res_pairs, scheme='closest-heavy')\n",
    "    np.save(file=out_i, arr=out_f)  \n"
   ]
  },
  {
   "cell_type": "markdown",
   "metadata": {},
   "source": [
    "## Alpha contacts"
   ]
  },
  {
   "cell_type": "code",
   "execution_count": 42,
   "metadata": {},
   "outputs": [],
   "source": [
    "feature = 'contact_alpha'\n",
    "res_pairs = np.array(list(it.combinations(range(xtal.n_residues), 2)))\n",
    "\n",
    "out_path = data_dir+feature\n",
    "out = Path(out_path)\n",
    "out.mkdir(parents=True, exist_ok=True)\n",
    "for i, traj in enumerate(trajs):\n",
    "    out_i = out.joinpath(npy_names[i])\n",
    "    out_f, _ = md.compute_contacts(traj, contacts=res_pairs, scheme='ca')\n",
    "    np.save(file=out_i, arr=out_f) "
   ]
  },
  {
   "cell_type": "markdown",
   "metadata": {},
   "source": [
    "## Interatomic distances"
   ]
  },
  {
   "cell_type": "code",
   "execution_count": 111,
   "metadata": {},
   "outputs": [],
   "source": [
    "\n",
    "feature = 'interatomic_dist'\n",
    "atom_pairs = np.array(list(it.combinations(heavy_ix, 2)))\n",
    "\n",
    "out_path = data_dir+feature\n",
    "out = Path(out_path)\n",
    "out.mkdir(parents=True, exist_ok=True)\n",
    "for i, traj in enumerate(trajs):\n",
    "    out_i = out.joinpath(npy_names[i])\n",
    "    out_f = md.compute_distances(traj, atom_pairs)\n",
    "    np.save(file=out_i, arr=out_f) "
   ]
  },
  {
   "cell_type": "markdown",
   "metadata": {},
   "source": [
    "## Dihedrals"
   ]
  },
  {
   "cell_type": "markdown",
   "metadata": {},
   "source": [
    "We'll need the extended trajectories for this as Phi/Psi need neighbouring residues. There is a mistake in the pdb - \n",
    "C81 has an extra proton (the disulphide bridge patch didn't work here!)"
   ]
  },
  {
   "cell_type": "code",
   "execution_count": 37,
   "metadata": {},
   "outputs": [],
   "source": [
    "ext_top_path = data_dir + 'trajectories/ext_as_d_top.pdb'\n",
    "ext_trajs  = [md.load(x, top=ext_top_path) for x in ext_traj_paths[:100]]\n",
    "ext_top_path = data_dir + 'trajectories/ext_as_h_top.pdb'\n",
    "ext_trajs  = ext_trajs+[md.load(x, top=ext_top_path) for x in ext_traj_paths[100:]]"
   ]
  },
  {
   "cell_type": "markdown",
   "metadata": {},
   "source": [
    "The chi dihedrals aren't defined for TTW. So I'll base my definitions on Trp. Open structure with PyMol to check this. "
   ]
  },
  {
   "cell_type": "code",
   "execution_count": 35,
   "metadata": {},
   "outputs": [],
   "source": [
    "ttw_chi1 = ['N', 'CA', 'CX1', 'CX2']\n",
    "ttw_chi2 = ['CA', 'CX1', 'CX2', 'CD1']\n",
    "# 'CZ2', 'CH2', 'NT', 'CI2', 'C1', 'CW1', 'CW2' \n",
    "ttw_chi3 = ['CZ2', 'CH2', 'NT', 'CI2']\n",
    "ttw_chi4 = ['CH2', 'NT', 'CI2', 'C1']\n",
    "ttw_chi5 = ['NT', 'CI2', 'C1', 'CW1']\n",
    "ttw_chi6 = ['CI2', 'C1', 'CW1', 'CW2']\n",
    "ttw_chi = np.array([ttw_chi1, ttw_chi2, ttw_chi3, ttw_chi4, ttw_chi5, ttw_chi6 ])\n",
    "d_ttw_chi = np.array([ext_trajs[0].top.select('resSeq 399 and (name {0} or name {1} or \\\n",
    "                                        name  {2} or name {3})'.format(*x)) for x in ttw_chi])\n",
    "h_ttw_chi = np.array([ext_trajs[-1].top.select('resSeq 872 and (name {0} or name {1} or \\\n",
    "                                        name  {2} or name {3})'.format(*x)) for x in ttw_chi])"
   ]
  },
  {
   "cell_type": "code",
   "execution_count": 102,
   "metadata": {},
   "outputs": [
    {
     "name": "stderr",
     "output_type": "stream",
     "text": [
      "/Users/robertarbon/opt/miniconda3/envs/pyemma/lib/python3.7/site-packages/mdtraj/geometry/dihedral.py:374: FutureWarning: arrays to stack must be passed as a \"sequence\" type such as list or tuple. Support for non-sequence iterables such as generators is deprecated as of NumPy 1.16 and will raise an error in the future.\n",
      "  indices = np.vstack(x for x in indices if x.size)[id_sort]\n"
     ]
    }
   ],
   "source": [
    "feature = 'dihedrals'\n",
    "accumulate = []\n",
    "out_path = data_dir+feature\n",
    "out = Path(out_path)\n",
    "out.mkdir(parents=True, exist_ok=True)\n",
    "\n",
    "\n",
    "for i, traj in enumerate(ext_trajs):\n",
    "    \n",
    "    _, phi = md.compute_phi(traj)\n",
    "    _, psi = md.compute_psi(traj)\n",
    "    _, chi1 = md.compute_chi1(traj)\n",
    "    _, chi2 = md.compute_chi2(traj)\n",
    "    if i < 100: \n",
    "        ttw_chi = md.compute_dihedrals(traj, d_ttw_chi)\n",
    "    else:\n",
    "        ttw_chi = md.compute_dihedrals(traj, h_ttw_chi)\n",
    "    dihed = np.concatenate([phi, psi, chi1, chi2, ttw_chi], axis=1)\n",
    "    accumulate.append(dihed)\n",
    "    # Save raw angles\n",
    "    out_i = out.joinpath(ext_npy_names[i])\n",
    "    np.save(file=out_i, arr=dihed) \n",
    "    \n",
    "    dihed_sc = np.concatenate([np.sin(dihed), np.cos(dihed)], axis=1)\n",
    "    out_i_sc = out.joinpath(ext_npy_names[i].replace('.npy', '_sincos.npy'))\n",
    "    np.save(file=out_i_sc, arr=dihed_sc)"
   ]
  },
  {
   "cell_type": "code",
   "execution_count": null,
   "metadata": {},
   "outputs": [],
   "source": []
  }
 ],
 "metadata": {
  "kernelspec": {
   "display_name": "Python 3",
   "language": "python",
   "name": "python3"
  },
  "language_info": {
   "codemirror_mode": {
    "name": "ipython",
    "version": 3
   },
   "file_extension": ".py",
   "mimetype": "text/x-python",
   "name": "python",
   "nbconvert_exporter": "python",
   "pygments_lexer": "ipython3",
   "version": "3.7.6"
  }
 },
 "nbformat": 4,
 "nbformat_minor": 4
}
