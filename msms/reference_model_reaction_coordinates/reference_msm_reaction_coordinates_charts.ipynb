{
 "cells": [
  {
   "cell_type": "code",
   "execution_count": 3,
   "metadata": {},
   "outputs": [],
   "source": [
    "import pandas as pd\n",
    "import numpy as np\n",
    "import pyemma as pm\n",
    "import matplotlib.pyplot as plt\n",
    "import seaborn as sns \n",
    "%matplotlib inline\n",
    "import pickle as p"
   ]
  },
  {
   "cell_type": "markdown",
   "metadata": {},
   "source": [
    "## Introduction\n",
    "This notebook makes charts for the reference model"
   ]
  },
  {
   "cell_type": "markdown",
   "metadata": {},
   "source": [
    "## Data"
   ]
  },
  {
   "cell_type": "code",
   "execution_count": 5,
   "metadata": {},
   "outputs": [
    {
     "data": {
      "text/plain": [
       "0.01"
      ]
     },
     "execution_count": 5,
     "metadata": {},
     "output_type": "execute_result"
    }
   ],
   "source": [
    "df = pd.read_csv('/Users/robertarbon/OneDrive - University of Bristol/Research/AADH/outputs/bond_distances.csv')\n",
    "dt = df['t (ns)'][1]-df['t (ns)'][0]\n",
    "dt"
   ]
  },
  {
   "cell_type": "code",
   "execution_count": 6,
   "metadata": {},
   "outputs": [],
   "source": [
    "def split_df(df, cols, site='H'):\n",
    "    X = []\n",
    "    for k, v in df.loc[df['Site']==site, :].groupby('Trajectory'):\n",
    "        X.append(v.loc[:, cols].values)\n",
    "    return X\n",
    "\n",
    "X_d = split_df(df, ['OD1-CI2', 'OD2-CI2', 'OD1-HI2', 'OD2-HI2', 'OD1-HI3', 'OD2-HI3',\n",
    "       'HE1-OT', 'HE1-A82_O', 'HNT-OT', 'HNT-D84_O', 'OT-D84_H',\n",
    "       'OD2-T172_HG1', 'OD1-W160_H'], site='D')\n",
    "X_h = split_df(df, ['OD1-CI2', 'OD2-CI2', 'OD1-HI2', 'OD2-HI2', 'OD1-HI3', 'OD2-HI3',\n",
    "       'HE1-OT', 'HE1-A82_O', 'HNT-OT', 'HNT-D84_O', 'OT-D84_H',\n",
    "       'OD2-T172_HG1', 'OD1-W160_H'], site='H')"
   ]
  },
  {
   "cell_type": "markdown",
   "metadata": {},
   "source": [
    "TICA "
   ]
  },
  {
   "cell_type": "code",
   "execution_count": 7,
   "metadata": {},
   "outputs": [
    {
     "data": {
      "application/vnd.jupyter.widget-view+json": {
       "model_id": "",
       "version_major": 2,
       "version_minor": 0
      },
      "text/plain": [
       "HBox(children=(FloatProgress(value=0.0, description='calculate covariances', layout=Layout(flex='2'), style=Pr…"
      ]
     },
     "metadata": {},
     "output_type": "display_data"
    },
    {
     "name": "stdout",
     "output_type": "stream",
     "text": [
      "\r"
     ]
    },
    {
     "data": {
      "application/vnd.jupyter.widget-view+json": {
       "model_id": "",
       "version_major": 2,
       "version_minor": 0
      },
      "text/plain": [
       "HBox(children=(FloatProgress(value=0.0, description='getting output of TICA', layout=Layout(flex='2'), style=P…"
      ]
     },
     "metadata": {},
     "output_type": "display_data"
    },
    {
     "name": "stdout",
     "output_type": "stream",
     "text": [
      "\r"
     ]
    },
    {
     "data": {
      "application/vnd.jupyter.widget-view+json": {
       "model_id": "",
       "version_major": 2,
       "version_minor": 0
      },
      "text/plain": [
       "HBox(children=(FloatProgress(value=0.0, description='calculate covariances', layout=Layout(flex='2'), style=Pr…"
      ]
     },
     "metadata": {},
     "output_type": "display_data"
    },
    {
     "name": "stdout",
     "output_type": "stream",
     "text": [
      "\r"
     ]
    },
    {
     "data": {
      "application/vnd.jupyter.widget-view+json": {
       "model_id": "",
       "version_major": 2,
       "version_minor": 0
      },
      "text/plain": [
       "HBox(children=(FloatProgress(value=0.0, description='getting output of TICA', layout=Layout(flex='2'), style=P…"
      ]
     },
     "metadata": {},
     "output_type": "display_data"
    },
    {
     "name": "stdout",
     "output_type": "stream",
     "text": [
      "\r"
     ]
    }
   ],
   "source": [
    "tica_d = pm.coordinates.tica(X_d, lag=int(0.1/dt))\n",
    "Y_d = tica_d.get_output()\n",
    "tica_h = pm.coordinates.tica(X_h, lag=int(0.1/dt))\n",
    "Y_h = tica_h.get_output()"
   ]
  },
  {
   "cell_type": "markdown",
   "metadata": {},
   "source": [
    "Cluster"
   ]
  },
  {
   "cell_type": "code",
   "execution_count": 8,
   "metadata": {},
   "outputs": [],
   "source": [
    "cluster_d = p.load(open('/Users/robertarbon/OneDrive - University of Bristol/Research/AADH/msms/'\\\n",
    "            'reference_model_reaction_coordinates/as_d_cluster.p', 'rb'))\n",
    "cluster_h = p.load(open('/Users/robertarbon/OneDrive - University of Bristol/Research/AADH/msms/'\\\n",
    "            'reference_model_reaction_coordinates/as_h_cluster.p', 'rb'))"
   ]
  },
  {
   "cell_type": "code",
   "execution_count": 9,
   "metadata": {},
   "outputs": [],
   "source": [
    "dtrajs_d = cluster_d.dtrajs\n",
    "dtrajs_h = cluster_h.dtrajs"
   ]
  },
  {
   "cell_type": "markdown",
   "metadata": {},
   "source": [
    "Compute its vs lags"
   ]
  },
  {
   "cell_type": "code",
   "execution_count": 10,
   "metadata": {},
   "outputs": [],
   "source": [
    "its_10_h = p.load(open('/Users/robertarbon/OneDrive - University of Bristol/Research/AADH/msms/'\\\n",
    "            'reference_model_reaction_coordinates/as_h_its_10.p', 'rb'))\n",
    "its_10_d = p.load(open('/Users/robertarbon/OneDrive - University of Bristol/Research/AADH/msms/'\\\n",
    "            'reference_model_reaction_coordinates/as_d_its_10.p', 'rb'))"
   ]
  },
  {
   "cell_type": "code",
   "execution_count": 11,
   "metadata": {},
   "outputs": [
    {
     "data": {
      "image/png": "[encoded data removed]",
      "text/plain": [
       "<Figure size 432x288 with 1 Axes>"
      ]
     },
     "metadata": {
      "needs_background": "light"
     },
     "output_type": "display_data"
    }
   ],
   "source": [
    "plt.plot(its_10_h['lags']*dt, its_10_h['timescales']*dt)\n",
    "plt.yscale('log')"
   ]
  },
  {
   "cell_type": "code",
   "execution_count": 12,
   "metadata": {},
   "outputs": [
    {
     "data": {
      "image/png": "[encoded data removed]",
      "text/plain": [
       "<Figure size 432x288 with 1 Axes>"
      ]
     },
     "metadata": {
      "needs_background": "light"
     },
     "output_type": "display_data"
    }
   ],
   "source": [
    "plt.plot(its_10_d['lags']*dt, its_10_d['timescales']*dt)\n",
    "plt.yscale('log')"
   ]
  },
  {
   "cell_type": "code",
   "execution_count": 13,
   "metadata": {},
   "outputs": [
    {
     "data": {
      "application/vnd.jupyter.widget-view+json": {
       "model_id": "",
       "version_major": 2,
       "version_minor": 0
      },
      "text/plain": [
       "HBox(children=(FloatProgress(value=0.0, description='pyemma.msm.estimators.bayesian_msm.BayesianMSM[8]: comput…"
      ]
     },
     "metadata": {},
     "output_type": "display_data"
    },
    {
     "name": "stdout",
     "output_type": "stream",
     "text": [
      "\r"
     ]
    },
    {
     "data": {
      "application/vnd.jupyter.widget-view+json": {
       "model_id": "",
       "version_major": 2,
       "version_minor": 0
      },
      "text/plain": [
       "HBox(children=(FloatProgress(value=0.0, description='pyemma.msm.estimators.bayesian_msm.BayesianMSM[8]: Sampli…"
      ]
     },
     "metadata": {},
     "output_type": "display_data"
    },
    {
     "name": "stdout",
     "output_type": "stream",
     "text": [
      "\r"
     ]
    },
    {
     "data": {
      "application/vnd.jupyter.widget-view+json": {
       "model_id": "",
       "version_major": 2,
       "version_minor": 0
      },
      "text/plain": [
       "HBox(children=(FloatProgress(value=0.0, description='pyemma.msm.estimators.bayesian_msm.BayesianMSM[9]: comput…"
      ]
     },
     "metadata": {},
     "output_type": "display_data"
    },
    {
     "name": "stdout",
     "output_type": "stream",
     "text": [
      "\r"
     ]
    },
    {
     "data": {
      "application/vnd.jupyter.widget-view+json": {
       "model_id": "",
       "version_major": 2,
       "version_minor": 0
      },
      "text/plain": [
       "HBox(children=(FloatProgress(value=0.0, description='pyemma.msm.estimators.bayesian_msm.BayesianMSM[9]: Sampli…"
      ]
     },
     "metadata": {},
     "output_type": "display_data"
    },
    {
     "name": "stdout",
     "output_type": "stream",
     "text": [
      "\r"
     ]
    },
    {
     "data": {
      "application/vnd.jupyter.widget-view+json": {
       "model_id": "",
       "version_major": 2,
       "version_minor": 0
      },
      "text/plain": [
       "HBox(children=(FloatProgress(value=0.0, description='pyemma.msm.estimators.bayesian_msm.BayesianMSM[10]: compu…"
      ]
     },
     "metadata": {},
     "output_type": "display_data"
    },
    {
     "name": "stdout",
     "output_type": "stream",
     "text": [
      "\r"
     ]
    },
    {
     "data": {
      "application/vnd.jupyter.widget-view+json": {
       "model_id": "",
       "version_major": 2,
       "version_minor": 0
      },
      "text/plain": [
       "HBox(children=(FloatProgress(value=0.0, description='pyemma.msm.estimators.bayesian_msm.BayesianMSM[10]: Sampl…"
      ]
     },
     "metadata": {},
     "output_type": "display_data"
    },
    {
     "name": "stdout",
     "output_type": "stream",
     "text": [
      "\r"
     ]
    }
   ],
   "source": [
    "stride = 10\n",
    "sample = [np.ascontiguousarray(x[::stride]) for x in dtrajs_d]\n",
    "bmms_d = []\n",
    "for lag in [1, 2, 3]:\n",
    "    mm = pm.msm.bayesian_markov_model(sample, lag=int(lag/dt/stride))\n",
    "    bmms_d.append(mm)\n",
    "# bmms_d = [pm.msm.bayesian_markov_model(sample, lag=int(x/dt/stride)) for x in [1, 2, 3]]\n",
    "\n",
    "# sample = [np.ascontiguousarray(x[::stride]) for x in dtrajs_h]\n",
    "# bmms_h = [pm.msm.bayesian_markov_model(sample, lag=int(x/dt/stride)) for x in [1, 2, 3]]\n"
   ]
  },
  {
   "cell_type": "code",
   "execution_count": null,
   "metadata": {},
   "outputs": [],
   "source": [
    "?pm.msm.its"
   ]
  },
  {
   "cell_type": "code",
   "execution_count": null,
   "metadata": {},
   "outputs": [],
   "source": [
    "its_h_b = pm.msm.its(dtrajs_h, lags=(np.array([1, 2, 3])/dt).astype(int), errors='bayes')"
   ]
  },
  {
   "cell_type": "markdown",
   "metadata": {},
   "source": [
    "## Fit model\n",
    "if previous code as run just start here. \n"
   ]
  },
  {
   "cell_type": "code",
   "execution_count": null,
   "metadata": {},
   "outputs": [],
   "source": [
    "cluster = p.load(file=open('reference_model/as_d_cluster.p', 'rb'))\n",
    "dtrajs = cluster.dtrajs"
   ]
  },
  {
   "cell_type": "code",
   "execution_count": null,
   "metadata": {},
   "outputs": [],
   "source": [
    "def plot(i, j, site='D', **kwargs):\n",
    "    if(site=='H'):\n",
    "        states = h_cols\n",
    "    else:\n",
    "        states = None\n",
    "        \n",
    "    X = df.loc[df['Site']==site, states].values\n",
    "#     fig, ax = plt.subplots()\n",
    "    fig, ax = pm.plots.plot_free_energy(X[:, i], X[:, j], cmap='viridis_r', **kwargs)\n",
    "    ax.set_ylabel(states[j])\n",
    "    ax.set_xlabel(states[i])\n",
    "    return ax"
   ]
  },
  {
   "cell_type": "code",
   "execution_count": null,
   "metadata": {},
   "outputs": [],
   "source": [
    "# mm01 = pm.msm.estimate_markov_model(dtrajs, lag = int(0.1/dt))\n",
    "mm = pm.msm.estimate_markov_model(dtrajs, lag = int(5/dt))"
   ]
  },
  {
   "cell_type": "code",
   "execution_count": null,
   "metadata": {},
   "outputs": [],
   "source": [
    "with sns.plotting_context('paper', font_scale=1.25):\n",
    "    fig = plt.figure(figsize=(6,8))\n",
    "    sns.set_style('white')\n",
    "    m = mm\n",
    "    for ix, (i, j) in enumerate([[0, 1], [0, 2], [1, 2]]):\n",
    "        ax = fig.add_subplot(3,1, ix+1)\n",
    "        if ix == 2:\n",
    "            cbar=True\n",
    "        else: \n",
    "            cbar=False\n",
    "#         plot(i, j, 'H', )\n",
    "#         pm.plots.plot_free_energy(np.concatenate(Y)[:, i], np.concatenate(Y)[:, j], cmap='viridis_r', \n",
    "#                                   **{'avoid_zero_count': True, 'levels': [0,1,2,3,4,5, 6,7, 8, 9, 10], \n",
    "#                            'ax': ax, 'cbar': cbar, 'alpha':0.5})\n",
    "        \n",
    "        c = ax.scatter(cluster.cluster_centers_[m.active_set, i], \n",
    "                       cluster.cluster_centers_[m.active_set, j], \n",
    "                       c=1*(m.eigenvectors_right()[:, 2]>0),\n",
    "                      alpha=1)\n",
    "        if ix==2:\n",
    "            plt.colorbar(c)\n",
    "        \n",
    "    plt.tight_layout()"
   ]
  },
  {
   "cell_type": "code",
   "execution_count": null,
   "metadata": {},
   "outputs": [],
   "source": []
  }
 ],
 "metadata": {
  "kernelspec": {
   "display_name": "Python 3",
   "language": "python",
   "name": "python3"
  },
  "language_info": {
   "codemirror_mode": {
    "name": "ipython",
    "version": 3
   },
   "file_extension": ".py",
   "mimetype": "text/x-python",
   "name": "python",
   "nbconvert_exporter": "python",
   "pygments_lexer": "ipython3",
   "version": "3.7.6"
  }
 },
 "nbformat": 4,
 "nbformat_minor": 4
}
