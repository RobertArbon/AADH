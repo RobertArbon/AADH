{
 "cells": [
  {
   "cell_type": "code",
   "execution_count": 6,
   "metadata": {},
   "outputs": [],
   "source": [
    "import pandas as pd\n",
    "import numpy as np\n",
    "import pyemma as pm\n",
    "import matplotlib.pyplot as plt\n",
    "import seaborn as sns \n",
    "%matplotlib inline\n",
    "import pickle as p"
   ]
  },
  {
   "cell_type": "markdown",
   "metadata": {},
   "source": [
    "## Introduction\n",
    "\n",
    "This notebook makes a simple MSM from reaction coordinates identified by KR and defined in `exploratory/reaction_coordinates`. \n",
    "\n",
    "There are 13 bond distances which are reactive (e.g. H -- O, or would involved bond breaking) or stabilizing (hydrogen bonds). Inspection of the distribution of these revealed substantive differences between the two active sites. \n",
    "\n",
    "I'll start by investigating the `H` active site as that to appeared to have distinct clusters (by inspection of the free energy diagrams). "
   ]
  },
  {
   "cell_type": "markdown",
   "metadata": {},
   "source": [
    "## Data"
   ]
  },
  {
   "cell_type": "code",
   "execution_count": 7,
   "metadata": {},
   "outputs": [],
   "source": [
    "df = pd.read_csv('../outputs/bond_distances.csv')\n",
    "df.head()\n",
    "df.sort_values(by=['Site','Trajectory', 't (ns)'], inplace=True)"
   ]
  },
  {
   "cell_type": "code",
   "execution_count": 8,
   "metadata": {},
   "outputs": [
    {
     "data": {
      "text/plain": [
       "0.01"
      ]
     },
     "execution_count": 8,
     "metadata": {},
     "output_type": "execute_result"
    }
   ],
   "source": [
    "dt = df['t (ns)'][1]-df['t (ns)'][0]\n",
    "dt"
   ]
  },
  {
   "cell_type": "code",
   "execution_count": 9,
   "metadata": {},
   "outputs": [
    {
     "data": {
      "text/plain": [
       "Index(['OD1-CI2', 'OD2-CI2', 'OD1-HI2', 'OD2-HI2', 'OD1-HI3', 'OD2-HI3',\n",
       "       'HE1-OT', 'HE1-A82_O', 'HNT-OT', 'HNT-D84_O', 'OT-D84_H',\n",
       "       'OD2-T172_HG1', 'OD1-W160_H', 't (ns)', 'Site', 'Trajectory'],\n",
       "      dtype='object')"
      ]
     },
     "execution_count": 9,
     "metadata": {},
     "output_type": "execute_result"
    }
   ],
   "source": [
    "df.columns"
   ]
  },
  {
   "cell_type": "code",
   "execution_count": 10,
   "metadata": {},
   "outputs": [],
   "source": [
    "def split_df(df, cols, site='H'):\n",
    "    X = []\n",
    "    for k, v in df.loc[df['Site']==site, :].groupby('Trajectory'):\n",
    "        X.append(v.loc[:, cols].values)\n",
    "    return X"
   ]
  },
  {
   "cell_type": "code",
   "execution_count": 11,
   "metadata": {},
   "outputs": [],
   "source": [
    "X = split_df(df, ['OD1-CI2', 'OD2-CI2', 'OD1-HI2', 'OD2-HI2', 'OD1-HI3', 'OD2-HI3',\n",
    "       'HE1-OT', 'HE1-A82_O', 'HNT-OT', 'HNT-D84_O', 'OT-D84_H',\n",
    "       'OD2-T172_HG1', 'OD1-W160_H'], site='D')"
   ]
  },
  {
   "cell_type": "markdown",
   "metadata": {},
   "source": [
    "## Preprocess\n",
    "\n",
    "This can take a long time.  Skip this if already run. "
   ]
  },
  {
   "cell_type": "markdown",
   "metadata": {},
   "source": [
    "TICA"
   ]
  },
  {
   "cell_type": "code",
   "execution_count": 7,
   "metadata": {},
   "outputs": [
    {
     "data": {
      "application/vnd.jupyter.widget-view+json": {
       "model_id": "",
       "version_major": 2,
       "version_minor": 0
      },
      "text/plain": [
       "HBox(children=(FloatProgress(value=0.0, description='calculate covariances', layout=Layout(flex='2'), style=Pr…"
      ]
     },
     "metadata": {},
     "output_type": "display_data"
    },
    {
     "name": "stdout",
     "output_type": "stream",
     "text": [
      "\r"
     ]
    },
    {
     "data": {
      "application/vnd.jupyter.widget-view+json": {
       "model_id": "",
       "version_major": 2,
       "version_minor": 0
      },
      "text/plain": [
       "HBox(children=(FloatProgress(value=0.0, description='getting output of TICA', layout=Layout(flex='2'), style=P…"
      ]
     },
     "metadata": {},
     "output_type": "display_data"
    },
    {
     "name": "stdout",
     "output_type": "stream",
     "text": [
      "\r"
     ]
    }
   ],
   "source": [
    "tica = pm.coordinates.tica(X, lag=int(0.1/dt))\n",
    "Y = tica.get_output()"
   ]
  },
  {
   "cell_type": "markdown",
   "metadata": {},
   "source": [
    "Cluster"
   ]
  },
  {
   "cell_type": "code",
   "execution_count": 8,
   "metadata": {
    "scrolled": false
   },
   "outputs": [
    {
     "name": "stdout",
     "output_type": "stream",
     "text": [
      "1000\n"
     ]
    },
    {
     "data": {
      "application/vnd.jupyter.widget-view+json": {
       "model_id": "",
       "version_major": 2,
       "version_minor": 0
      },
      "text/plain": [
       "HBox(children=(FloatProgress(value=0.0, description='initialize kmeans++ centers', layout=Layout(flex='2'), ma…"
      ]
     },
     "metadata": {},
     "output_type": "display_data"
    },
    {
     "data": {
      "application/vnd.jupyter.widget-view+json": {
       "model_id": "",
       "version_major": 2,
       "version_minor": 0
      },
      "text/plain": [
       "HBox(children=(FloatProgress(value=0.0, description='kmeans iterations', layout=Layout(flex='2'), max=1000.0, …"
      ]
     },
     "metadata": {},
     "output_type": "display_data"
    },
    {
     "name": "stdout",
     "output_type": "stream",
     "text": [
      "10-04-20 10:46:10 pyemma.coordinates.clustering.kmeans.MiniBatchKmeansClustering[3] INFO     Cluster centers converged after 138 steps.\n"
     ]
    },
    {
     "data": {
      "application/vnd.jupyter.widget-view+json": {
       "model_id": "",
       "version_major": 2,
       "version_minor": 0
      },
      "text/plain": [
       "HBox(children=(FloatProgress(value=0.0, description='getting output of MiniBatchKmeansClustering', layout=Layo…"
      ]
     },
     "metadata": {},
     "output_type": "display_data"
    },
    {
     "name": "stdout",
     "output_type": "stream",
     "text": [
      "\r"
     ]
    }
   ],
   "source": [
    "k = np.sqrt(X[0].shape[0]*len(X)).astype(int)\n",
    "print(k)\n",
    "cluster = pm.coordinates.cluster_mini_batch_kmeans(data=Y, k=1000, max_iter=1000)\n",
    "dtrajs = cluster.dtrajs\n"
   ]
  },
  {
   "cell_type": "code",
   "execution_count": 13,
   "metadata": {},
   "outputs": [],
   "source": [
    "p.dump(file=open('reference_model/as_d_cluster.p', 'wb'), obj=cluster)"
   ]
  },
  {
   "cell_type": "markdown",
   "metadata": {},
   "source": [
    "Compute its vs lags"
   ]
  },
  {
   "cell_type": "code",
   "execution_count": 14,
   "metadata": {},
   "outputs": [
    {
     "data": {
      "application/vnd.jupyter.widget-view+json": {
       "model_id": "",
       "version_major": 2,
       "version_minor": 0
      },
      "text/plain": [
       "HBox(children=(FloatProgress(value=0.0, description='estimating MaximumLikelihoodMSM', layout=Layout(flex='2')…"
      ]
     },
     "metadata": {},
     "output_type": "display_data"
    },
    {
     "name": "stdout",
     "output_type": "stream",
     "text": [
      "\r"
     ]
    }
   ],
   "source": [
    "lags = np.arange(1, 1000, 2).astype(int)\n",
    "its_10 = pm.msm.its(dtrajs, lags = lags, nits=5)"
   ]
  },
  {
   "cell_type": "code",
   "execution_count": 26,
   "metadata": {},
   "outputs": [],
   "source": [
    "p.dump(file=open('reference_model/as_d_its_10.p', 'wb'), obj={'lags': its_10.lags, 'timescales': its_10.timescales})"
   ]
  },
  {
   "cell_type": "code",
   "execution_count": 27,
   "metadata": {},
   "outputs": [
    {
     "data": {
      "application/vnd.jupyter.widget-view+json": {
       "model_id": "",
       "version_major": 2,
       "version_minor": 0
      },
      "text/plain": [
       "HBox(children=(FloatProgress(value=0.0, description='estimating MaximumLikelihoodMSM', layout=Layout(flex='2')…"
      ]
     },
     "metadata": {},
     "output_type": "display_data"
    },
    {
     "name": "stdout",
     "output_type": "stream",
     "text": [
      "\r"
     ]
    }
   ],
   "source": [
    "lags = np.arange(1000, 5000, 10).astype(int)\n",
    "its_50 = pm.msm.its(dtrajs, lags = lags, nits=5)"
   ]
  },
  {
   "cell_type": "code",
   "execution_count": 28,
   "metadata": {},
   "outputs": [],
   "source": [
    "p.dump(file=open('reference_model/as_d_its_50.p', 'wb'), obj={'lags': its_50.lags, 'timescales': its_50.timescales})"
   ]
  },
  {
   "cell_type": "markdown",
   "metadata": {},
   "source": [
    "## Fit model\n",
    "if previous code as run just start here. \n"
   ]
  },
  {
   "cell_type": "code",
   "execution_count": 12,
   "metadata": {},
   "outputs": [],
   "source": [
    "cluster = p.load(file=open('reference_model/as_d_cluster.p', 'rb'))\n",
    "dtrajs = cluster.dtrajs"
   ]
  },
  {
   "cell_type": "code",
   "execution_count": 29,
   "metadata": {},
   "outputs": [],
   "source": [
    "def plot(i, j, site='D', **kwargs):\n",
    "    if(site=='H'):\n",
    "        states = h_cols\n",
    "    else:\n",
    "        states = None\n",
    "        \n",
    "    X = df.loc[df['Site']==site, states].values\n",
    "#     fig, ax = plt.subplots()\n",
    "    fig, ax = pm.plots.plot_free_energy(X[:, i], X[:, j], cmap='viridis_r', **kwargs)\n",
    "    ax.set_ylabel(states[j])\n",
    "    ax.set_xlabel(states[i])\n",
    "    return ax"
   ]
  },
  {
   "cell_type": "code",
   "execution_count": 13,
   "metadata": {},
   "outputs": [],
   "source": [
    "# mm01 = pm.msm.estimate_markov_model(dtrajs, lag = int(0.1/dt))\n",
    "mm = pm.msm.estimate_markov_model(dtrajs, lag = int(5/dt))"
   ]
  },
  {
   "cell_type": "code",
   "execution_count": 18,
   "metadata": {},
   "outputs": [
    {
     "data": {
      "image/png": "[encoded data removed]",
      "text/plain": [
       "<Figure size 432x576 with 4 Axes>"
      ]
     },
     "metadata": {},
     "output_type": "display_data"
    }
   ],
   "source": [
    "with sns.plotting_context('paper', font_scale=1.25):\n",
    "    fig = plt.figure(figsize=(6,8))\n",
    "    sns.set_style('white')\n",
    "    m = mm\n",
    "    for ix, (i, j) in enumerate([[0, 1], [0, 2], [1, 2]]):\n",
    "        ax = fig.add_subplot(3,1, ix+1)\n",
    "        if ix == 2:\n",
    "            cbar=True\n",
    "        else: \n",
    "            cbar=False\n",
    "#         plot(i, j, 'H', )\n",
    "#         pm.plots.plot_free_energy(np.concatenate(Y)[:, i], np.concatenate(Y)[:, j], cmap='viridis_r', \n",
    "#                                   **{'avoid_zero_count': True, 'levels': [0,1,2,3,4,5, 6,7, 8, 9, 10], \n",
    "#                            'ax': ax, 'cbar': cbar, 'alpha':0.5})\n",
    "        \n",
    "        c = ax.scatter(cluster.cluster_centers_[m.active_set, i], \n",
    "                       cluster.cluster_centers_[m.active_set, j], \n",
    "                       c=1*(m.eigenvectors_right()[:, 2]>0),\n",
    "                      alpha=1)\n",
    "        if ix==2:\n",
    "            plt.colorbar(c)\n",
    "        \n",
    "    plt.tight_layout()"
   ]
  },
  {
   "cell_type": "code",
   "execution_count": null,
   "metadata": {},
   "outputs": [],
   "source": []
  }
 ],
 "metadata": {
  "kernelspec": {
   "display_name": "Python 3",
   "language": "python",
   "name": "python3"
  },
  "language_info": {
   "codemirror_mode": {
    "name": "ipython",
    "version": 3
   },
   "file_extension": ".py",
   "mimetype": "text/x-python",
   "name": "python",
   "nbconvert_exporter": "python",
   "pygments_lexer": "ipython3",
   "version": "3.7.6"
  }
 },
 "nbformat": 4,
 "nbformat_minor": 4
}
